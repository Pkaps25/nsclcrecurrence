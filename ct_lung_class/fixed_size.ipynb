{
 "cells": [
  {
   "cell_type": "code",
   "execution_count": 5,
   "metadata": {},
   "outputs": [],
   "source": [
    "from datasets import getNoduleInfoList\n",
    "import SimpleITK as sitk\n",
    "nodules = getNoduleInfoList(['sclc'])"
   ]
  },
  {
   "cell_type": "code",
   "execution_count": 6,
   "metadata": {},
   "outputs": [],
   "source": [
    "shapes_mm = []\n",
    "for nodule in nodules:\n",
    "    try:\n",
    "        nodule_obj = nodule.image_type(nodule.file_path, nodule.center_lps)\n",
    "        seg = nodule_obj.extract_bounding_box_nodule(True, 0,[1]*3)\n",
    "        seg_shape = seg.GetSize()\n",
    "        spacing = seg.GetSpacing()\n",
    "        shapes_mm.append([seg_shape[i] * spacing[i] for i in range(3)])\n",
    "        break\n",
    "    except:\n",
    "        pass\n",
    "    \n",
    "        "
   ]
  },
  {
   "cell_type": "code",
   "execution_count": 7,
   "metadata": {},
   "outputs": [
    {
     "data": {
      "text/plain": [
       "(0.556641, 0.556641, 1.2499999999999998)"
      ]
     },
     "execution_count": 7,
     "metadata": {},
     "output_type": "execute_result"
    }
   ],
   "source": [
    "spacing"
   ]
  },
  {
   "cell_type": "code",
   "execution_count": 2,
   "metadata": {},
   "outputs": [],
   "source": [
    "import pickle\n",
    "with open(\"temp.pkl\", \"rb\") as f:\n",
    "    shapes_mm = pickle.load(f)"
   ]
  },
  {
   "cell_type": "code",
   "execution_count": 4,
   "metadata": {},
   "outputs": [
    {
     "name": "stdout",
     "output_type": "stream",
     "text": [
      "[76.833996, 102.445328, 105.00000000000004]\n"
     ]
    }
   ],
   "source": [
    "result = list(map(max, zip(*shapes_mm)))\n",
    "print(result)"
   ]
  },
  {
   "cell_type": "code",
   "execution_count": null,
   "metadata": {},
   "outputs": [],
   "source": [
    "from datasets import get_fixed_size_nodule\n",
    "pixel_sizes = []\n",
    "for nodule in nodules:\n",
    "    nodule = nodules[0]\n",
    "    nodule_obj = nodule.image_type(nodule.file_path, nodule.center_lps)\n",
    "    pixel_sizes.append(nodule_obj.image.GetSpacing())\n",
    "    box = nodule_obj.extract_fixed_size_nodule([80, 110, 130])\n",
    "    # pixel_sizes.append(sitk.GetArrayFromImage(box).shape)"
   ]
  },
  {
   "cell_type": "code",
   "execution_count": 38,
   "metadata": {},
   "outputs": [
    {
     "data": {
      "text/plain": [
       "{(0.556641, 0.556641, 1.2499999999999998)}"
      ]
     },
     "execution_count": 38,
     "metadata": {},
     "output_type": "execute_result"
    }
   ],
   "source": [
    "set(pixel_sizes)"
   ]
  },
  {
   "cell_type": "code",
   "execution_count": null,
   "metadata": {},
   "outputs": [],
   "source": [
    "import matplotlib.pyplot as plt\n",
    "from datasets import resample_image_to_thickness\n",
    "\n",
    "resampled_sizes = []\n",
    "for nodule in nodules:\n",
    "    nodule_obj = nodule.image_type(nodule.file_path, nodule.center_lps)\n",
    "    box = nodule_obj.extract_fixed_size_nodule([65, 65, 80])\n",
    "    resampled_nodule = resample_image_to_thickness(box, [1,1,1])\n",
    "    b = sitk.GetArrayFromImage(box)\n",
    "    resampled_sizes.append(b.shape)\n",
    "    plt.imshow(b[32], cmap=\"grey\")\n",
    "    break"
   ]
  },
  {
   "cell_type": "code",
   "execution_count": 5,
   "metadata": {},
   "outputs": [
    {
     "name": "stderr",
     "output_type": "stream",
     "text": [
      "2025-04-05 16:23:25,514 INFO     pid:1563227 datasets:089:get_fixed_size_nodule Slicing nodule from image for /data/kaplinsp/transformation/A462715.nrrd\n"
     ]
    },
    {
     "name": "stdout",
     "output_type": "stream",
     "text": [
      "torch.Size([1, 96, 96, 96])\n"
     ]
    },
    {
     "data": {
      "text/plain": [
       "<matplotlib.image.AxesImage at 0x7f8bcbdd1150>"
      ]
     },
     "execution_count": 5,
     "metadata": {},
     "output_type": "execute_result"
    },
    {
     "data": {
      "image/png": "[encoded data removed]",
      "text/plain": [
       "<Figure size 640x480 with 1 Axes>"
      ]
     },
     "metadata": {},
     "output_type": "display_data"
    }
   ],
   "source": [
    "from datasets import get_fixed_size_nodule\n",
    "import matplotlib.pyplot as plt\n",
    "nodule = nodules[56]\n",
    "im = get_fixed_size_nodule(\n",
    "    nodule.file_path,\n",
    "    nodule.image_type,\n",
    "    nodule.center_lps,\n",
    "    [96] * 3,\n",
    "    [65, 65, 80],\n",
    "    [1., 1., 1.],\n",
    ")\n",
    "print(im.shape)\n",
    "plt.imshow(im[0][48], cmap=\"grey\")"
   ]
  },
  {
   "cell_type": "code",
   "execution_count": 12,
   "metadata": {},
   "outputs": [],
   "source": [
    "import matplotlib.pyplot as plt\n",
    "from datasets import resample_image_to_thickness\n",
    "\n",
    "resampled_sizes = []\n",
    "for nodule in nodules:\n",
    "    nodule_obj = nodule.image_type(nodule.file_path, nodule.center_lps)\n",
    "    box = nodule_obj.extract_bounding_box_nodule(\n",
    "        preprocess=True, dilation_mm=20, box_size=[65, 65, 80]\n",
    "    )\n",
    "    resampled_nodule = resample_image_to_thickness(box, [1,1,1])\n",
    "    b = sitk.GetArrayFromImage(box)\n",
    "    resampled_sizes.append(b.shape)\n"
   ]
  },
  {
   "cell_type": "code",
   "execution_count": 17,
   "metadata": {},
   "outputs": [
    {
     "data": {
      "text/plain": [
       "[146, 131, 131]"
      ]
     },
     "execution_count": 17,
     "metadata": {},
     "output_type": "execute_result"
    }
   ],
   "source": [
    "import numpy as np\n",
    "list(map(np.argmax, zip(*resampled_sizes)))"
   ]
  },
  {
   "cell_type": "code",
   "execution_count": 8,
   "metadata": {},
   "outputs": [
    {
     "name": "stdout",
     "output_type": "stream",
     "text": [
      "torch.Size([1, 70, 64, 58])\n"
     ]
    }
   ],
   "source": [
    "import monai, torch\n",
    "import matplotlib.pyplot as plt\n",
    "from datasets import resample_image_to_thickness\n",
    "\n",
    "nodule = nodules[72]\n",
    "nodule_obj = nodule.image_type(nodule.file_path, nodule.center_lps)\n",
    "box = nodule_obj.extract_bounding_box_nodule(\n",
    "    preprocess=True, dilation_mm=10, box_size=[65, 65, 80]\n",
    ")\n",
    "resampled_nodule = resample_image_to_thickness(box, [1,1,1])\n",
    "nodule_tensor = torch.from_numpy(sitk.GetArrayFromImage(resampled_nodule)).unsqueeze(0)\n",
    "print(nodule_tensor.shape)\n",
    "transform = monai.transforms.ResizeWithPadOrCrop([64]*3, method=\"symmetric\", mode=\"constant\", lazy=False)\n",
    "nodule_tensor = transform(nodule_tensor)\n"
   ]
  },
  {
   "cell_type": "code",
   "execution_count": 9,
   "metadata": {},
   "outputs": [
    {
     "data": {
      "text/plain": [
       "<matplotlib.image.AxesImage at 0x7fe8b0dc3640>"
      ]
     },
     "execution_count": 9,
     "metadata": {},
     "output_type": "execute_result"
    },
    {
     "data": {
      "image/png": "[encoded data removed]",
      "text/plain": [
       "<Figure size 640x480 with 1 Axes>"
      ]
     },
     "metadata": {},
     "output_type": "display_data"
    }
   ],
   "source": [
    "plt.imshow(nodule_tensor[0][32], cmap=\"grey\")"
   ]
  }
 ],
 "metadata": {
  "kernelspec": {
   "display_name": "lminfer",
   "language": "python",
   "name": "python3"
  },
  "language_info": {
   "codemirror_mode": {
    "name": "ipython",
    "version": 3
   },
   "file_extension": ".py",
   "mimetype": "text/x-python",
   "name": "python",
   "nbconvert_exporter": "python",
   "pygments_lexer": "ipython3",
   "version": "3.10.0"
  }
 },
 "nbformat": 4,
 "nbformat_minor": 2
}
