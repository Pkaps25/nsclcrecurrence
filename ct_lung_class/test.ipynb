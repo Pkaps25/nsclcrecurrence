{
 "cells": [
  {
   "cell_type": "code",
   "execution_count": 1,
   "metadata": {},
   "outputs": [
    {
     "name": "stderr",
     "output_type": "stream",
     "text": [
      "/data/kaplinsp/envs/lminfer/lib/python3.10/site-packages/ignite/handlers/checkpoint.py:16: DeprecationWarning: `TorchScript` support for functional optimizers is deprecated and will be removed in a future PyTorch release. Consider using the `torch.compile` optimizer instead.\n",
      "  from torch.distributed.optim import ZeroRedundancyOptimizer\n"
     ]
    }
   ],
   "source": [
    "from datasets import getNoduleInfoList\n",
    "nodules = getNoduleInfoList(['sclc'])"
   ]
  },
  {
   "cell_type": "code",
   "execution_count": 4,
   "metadata": {},
   "outputs": [],
   "source": [
    "import pickle \n",
    "path = \"/data/kaplinsp/models/log_DenseNet121_2025-04-28_13.35.53.log-fixedsize-tailored-epochs-{fold_index}\"\n",
    "data = {}\n",
    "for i in range(5):\n",
    "    for split in [\"train\", \"val\"]:\n",
    "        full_path = f\"{path.format(fold_index=i)}/{split}.pkl\"\n",
    "        with open(full_path, \"rb\") as f:\n",
    "            data[full_path] = pickle.load(f)\n",
    "    "
   ]
  },
  {
   "cell_type": "code",
   "execution_count": 17,
   "metadata": {},
   "outputs": [
    {
     "data": {
      "text/plain": [
       "set()"
      ]
     },
     "execution_count": 17,
     "metadata": {},
     "output_type": "execute_result"
    }
   ],
   "source": [
    "set(data['/data/kaplinsp/models/log_DenseNet121_2025-04-28_13.35.53.log-fixedsize-tailored-epochs-0/val.pkl']).intersection(set(data['/data/kaplinsp/models/log_DenseNet121_2025-04-28_13.35.53.log-fixedsize-tailored-epochs-1/train.pkl']))\n"
   ]
  },
  {
   "cell_type": "code",
   "execution_count": 2,
   "metadata": {},
   "outputs": [],
   "source": [
    "import multiprocessing as mp\n",
    "import SimpleITK as sitk\n",
    "\n",
    "def process_nodule(nodule):\n",
    "    obj = nodule.image_type(nodule.file_path, nodule.center_lps)\n",
    "    segmentation_image = obj.nodule_segmentation_image()\n",
    "    labeled_segmentation_image = sitk.ConnectedComponent(segmentation_image)\n",
    "    segmentation_id = obj.get_connected_component_id_for_nodule(labeled_segmentation_image)\n",
    "    return segmentation_id == 0\n",
    "\n",
    "def multiproc_nodules(nodules):\n",
    "    with mp.Pool(mp.cpu_count()) as pool:\n",
    "        results = pool.map(\n",
    "            process_nodule,\n",
    "            nodules\n",
    "        )\n",
    "    return list(zip(nodules, results))\n",
    "\n",
    "result = multiproc_nodules(nodules)"
   ]
  },
  {
   "cell_type": "code",
   "execution_count": 11,
   "metadata": {},
   "outputs": [],
   "source": [
    "import pandas as pd \n",
    "df = pd.DataFrame(result, columns=[\"nod\", \"missing_seg\"])\n",
    "df['file_path'] = df['nod'].apply(lambda x: x.file_path)\n",
    "df['center'] = df['nod'].apply(lambda x: x.center_lps)"
   ]
  },
  {
   "cell_type": "code",
   "execution_count": 12,
   "metadata": {},
   "outputs": [
    {
     "data": {
      "text/html": [
       "<div>\n",
       "<style scoped>\n",
       "    .dataframe tbody tr th:only-of-type {\n",
       "        vertical-align: middle;\n",
       "    }\n",
       "\n",
       "    .dataframe tbody tr th {\n",
       "        vertical-align: top;\n",
       "    }\n",
       "\n",
       "    .dataframe thead th {\n",
       "        text-align: right;\n",
       "    }\n",
       "</style>\n",
       "<table border=\"1\" class=\"dataframe\">\n",
       "  <thead>\n",
       "    <tr style=\"text-align: right;\">\n",
       "      <th></th>\n",
       "      <th>nod</th>\n",
       "      <th>missing_seg</th>\n",
       "      <th>file_path</th>\n",
       "      <th>center</th>\n",
       "    </tr>\n",
       "  </thead>\n",
       "  <tbody>\n",
       "    <tr>\n",
       "      <th>0</th>\n",
       "      <td>NoduleInfoTuple(is_nodule=0, nod_id='/data/kap...</td>\n",
       "      <td>True</td>\n",
       "      <td>/data/kaplinsp/transformation/A118.nrrd</td>\n",
       "      <td>(57.938431912178, 74.21525274590168, -220.1250...</td>\n",
       "    </tr>\n",
       "    <tr>\n",
       "      <th>1</th>\n",
       "      <td>NoduleInfoTuple(is_nodule=0, nod_id='/data/kap...</td>\n",
       "      <td>True</td>\n",
       "      <td>/data/kaplinsp/transformation/A119.nrrd</td>\n",
       "      <td>(-62.50294569672131, 48.41508709016394, -81.87...</td>\n",
       "    </tr>\n",
       "    <tr>\n",
       "      <th>3</th>\n",
       "      <td>NoduleInfoTuple(is_nodule=0, nod_id='/data/kap...</td>\n",
       "      <td>True</td>\n",
       "      <td>/data/kaplinsp/transformation/A124.nrrd</td>\n",
       "      <td>(85.23157567330207, 40.2135428864168, -104.374...</td>\n",
       "    </tr>\n",
       "    <tr>\n",
       "      <th>7</th>\n",
       "      <td>NoduleInfoTuple(is_nodule=0, nod_id='/data/kap...</td>\n",
       "      <td>True</td>\n",
       "      <td>/data/kaplinsp/transformation/A134.nrrd</td>\n",
       "      <td>(-62.71259281264636, 67.56109809133487, -126.875)</td>\n",
       "    </tr>\n",
       "    <tr>\n",
       "      <th>9</th>\n",
       "      <td>NoduleInfoTuple(is_nodule=0, nod_id='/data/kap...</td>\n",
       "      <td>True</td>\n",
       "      <td>/data/kaplinsp/transformation/A138.nrrd</td>\n",
       "      <td>(-51.68865945316159, 63.63444642037473, -149.9...</td>\n",
       "    </tr>\n",
       "    <tr>\n",
       "      <th>...</th>\n",
       "      <td>...</td>\n",
       "      <td>...</td>\n",
       "      <td>...</td>\n",
       "      <td>...</td>\n",
       "    </tr>\n",
       "    <tr>\n",
       "      <th>143</th>\n",
       "      <td>NoduleInfoTuple(is_nodule=1, nod_id='/data/kap...</td>\n",
       "      <td>True</td>\n",
       "      <td>/data/kaplinsp/transformation/S462813.nrrd</td>\n",
       "      <td>(82.62702837417214, -7.168953358278202, -167.5...</td>\n",
       "    </tr>\n",
       "    <tr>\n",
       "      <th>154</th>\n",
       "      <td>NoduleInfoTuple(is_nodule=1, nod_id='/data/kap...</td>\n",
       "      <td>True</td>\n",
       "      <td>/data/kaplinsp/transformation/SC_12.nrrd</td>\n",
       "      <td>(61.00500348407647, 32.62281831210191, -221.25)</td>\n",
       "    </tr>\n",
       "    <tr>\n",
       "      <th>158</th>\n",
       "      <td>NoduleInfoTuple(is_nodule=1, nod_id='/data/kap...</td>\n",
       "      <td>True</td>\n",
       "      <td>/data/kaplinsp/transformation/SC_16.nrrd</td>\n",
       "      <td>(52.20580560254777, 6.828722494267566, -105.0)</td>\n",
       "    </tr>\n",
       "    <tr>\n",
       "      <th>161</th>\n",
       "      <td>NoduleInfoTuple(is_nodule=1, nod_id='/data/kap...</td>\n",
       "      <td>True</td>\n",
       "      <td>/data/kaplinsp/transformation/SC_20.nrrd</td>\n",
       "      <td>(-39.36561137197452, -44.07834411082797, -165.0)</td>\n",
       "    </tr>\n",
       "    <tr>\n",
       "      <th>163</th>\n",
       "      <td>NoduleInfoTuple(is_nodule=1, nod_id='/data/kap...</td>\n",
       "      <td>True</td>\n",
       "      <td>/data/kaplinsp/transformation/SC_24.nrrd</td>\n",
       "      <td>(21.603851512738828, 81.04971138535029, -163.625)</td>\n",
       "    </tr>\n",
       "  </tbody>\n",
       "</table>\n",
       "<p>63 rows × 4 columns</p>\n",
       "</div>"
      ],
      "text/plain": [
       "                                                   nod  missing_seg  \\\n",
       "0    NoduleInfoTuple(is_nodule=0, nod_id='/data/kap...         True   \n",
       "1    NoduleInfoTuple(is_nodule=0, nod_id='/data/kap...         True   \n",
       "3    NoduleInfoTuple(is_nodule=0, nod_id='/data/kap...         True   \n",
       "7    NoduleInfoTuple(is_nodule=0, nod_id='/data/kap...         True   \n",
       "9    NoduleInfoTuple(is_nodule=0, nod_id='/data/kap...         True   \n",
       "..                                                 ...          ...   \n",
       "143  NoduleInfoTuple(is_nodule=1, nod_id='/data/kap...         True   \n",
       "154  NoduleInfoTuple(is_nodule=1, nod_id='/data/kap...         True   \n",
       "158  NoduleInfoTuple(is_nodule=1, nod_id='/data/kap...         True   \n",
       "161  NoduleInfoTuple(is_nodule=1, nod_id='/data/kap...         True   \n",
       "163  NoduleInfoTuple(is_nodule=1, nod_id='/data/kap...         True   \n",
       "\n",
       "                                      file_path  \\\n",
       "0       /data/kaplinsp/transformation/A118.nrrd   \n",
       "1       /data/kaplinsp/transformation/A119.nrrd   \n",
       "3       /data/kaplinsp/transformation/A124.nrrd   \n",
       "7       /data/kaplinsp/transformation/A134.nrrd   \n",
       "9       /data/kaplinsp/transformation/A138.nrrd   \n",
       "..                                          ...   \n",
       "143  /data/kaplinsp/transformation/S462813.nrrd   \n",
       "154    /data/kaplinsp/transformation/SC_12.nrrd   \n",
       "158    /data/kaplinsp/transformation/SC_16.nrrd   \n",
       "161    /data/kaplinsp/transformation/SC_20.nrrd   \n",
       "163    /data/kaplinsp/transformation/SC_24.nrrd   \n",
       "\n",
       "                                                center  \n",
       "0    (57.938431912178, 74.21525274590168, -220.1250...  \n",
       "1    (-62.50294569672131, 48.41508709016394, -81.87...  \n",
       "3    (85.23157567330207, 40.2135428864168, -104.374...  \n",
       "7    (-62.71259281264636, 67.56109809133487, -126.875)  \n",
       "9    (-51.68865945316159, 63.63444642037473, -149.9...  \n",
       "..                                                 ...  \n",
       "143  (82.62702837417214, -7.168953358278202, -167.5...  \n",
       "154    (61.00500348407647, 32.62281831210191, -221.25)  \n",
       "158     (52.20580560254777, 6.828722494267566, -105.0)  \n",
       "161   (-39.36561137197452, -44.07834411082797, -165.0)  \n",
       "163  (21.603851512738828, 81.04971138535029, -163.625)  \n",
       "\n",
       "[63 rows x 4 columns]"
      ]
     },
     "execution_count": 12,
     "metadata": {},
     "output_type": "execute_result"
    }
   ],
   "source": [
    "df[df['missing_seg']]"
   ]
  }
 ],
 "metadata": {
  "kernelspec": {
   "display_name": "lminfer",
   "language": "python",
   "name": "python3"
  },
  "language_info": {
   "codemirror_mode": {
    "name": "ipython",
    "version": 3
   },
   "file_extension": ".py",
   "mimetype": "text/x-python",
   "name": "python",
   "nbconvert_exporter": "python",
   "pygments_lexer": "ipython3",
   "version": "3.10.0"
  }
 },
 "nbformat": 4,
 "nbformat_minor": 2
}
