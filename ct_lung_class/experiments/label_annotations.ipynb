{
 "cells": [
  {
   "cell_type": "code",
   "execution_count": 7,
   "metadata": {},
   "outputs": [],
   "source": [
    "import pandas as pd\n",
    "annots = pd.read_csv(\"annots_michelle_label.csv\")\n",
    "def check_numeric_and_positive(x):\n",
    "    try:\n",
    "        return pd.to_numeric(x, errors='coerce') > 0\n",
    "    except:\n",
    "        return False\n",
    "\n",
    "# Create the new column\n",
    "annots[\"label\"] = annots.apply(lambda row: 1 if check_numeric_and_positive(row['mic']) or check_numeric_and_positive(row['sol']) else 0, axis=1)"
   ]
  },
  {
   "cell_type": "code",
   "execution_count": 1,
   "metadata": {},
   "outputs": [
    {
     "name": "stdout",
     "output_type": "stream",
     "text": [
      "Skipping RIA_17-353D_Prasad_000_2\n",
      "Skipping RIA_17-353D_Prasad_000_4\n",
      "Skipping RIA_17-353D_Prasad_000_11\n",
      "Skipping RIA_17-353D_Prasad_000_12\n",
      "Skipping RIA_17-353D_Prasad_000_48\n",
      "Skipping RIA_17-353D_Prasad_000_75\n",
      "Skipping RIA_17-353D_Prasad_000_76\n",
      "Skipping RIA_17-353D_Prasad_000_77\n",
      "Skipping RIA_17-353D_Prasad_000_78\n",
      "Skipping RIA_17-353D_Prasad_000_81\n",
      "Skipping RIA_17-353D_Prasad_000_83\n",
      "Skipping RIA_17-353D_Prasad_000_85\n",
      "Skipping RIA_17-353D_Prasad_000_89\n",
      "Skipping RIA_17-353D_Prasad_000_90\n",
      "Skipping RIA_17-353D_Prasad_000_93\n",
      "Skipping RIA_17-353D_Prasad_000_101\n",
      "Skipping RIA_17-353D_Prasad_000_103\n",
      "Skipping RIA_17-353D_Prasad_000_108\n",
      "Skipping RIA_17-353D_Prasad_000_112\n",
      "Skipping RIA_17-353D_Prasad_000_129\n",
      "Skipping RIA_17-353D_Prasad_000_131\n",
      "Skipping RIA_17-353D_Prasad_000_132\n",
      "Skipping RIA_17-353D_Prasad_000_133\n",
      "Skipping RIA_17-353D_Prasad_000_141\n",
      "Skipping RIA_17-353D_Prasad_000_150\n",
      "Skipping RIA_17-353D_Prasad_000_151\n",
      "Skipping RIA_17-353D_Prasad_000_154\n",
      "Skipping RIA_17-353D_Prasad_000_156\n",
      "Skipping RIA_17-353D_Prasad_000_158\n",
      "Skipping RIA_17-353D_Prasad_000_164\n",
      "Skipping RIA_17-353D_Prasad_000_174\n",
      "Skipping RIA_17-353D_Prasad_000_186\n",
      "Skipping RIA_17-353D_Prasad_000_191\n",
      "Skipping RIA_17-353D_Prasad_000_198\n",
      "Skipping RIA_17-353D_Prasad_000_200\n",
      "Skipping RIA_17-353D_Prasad_000_206\n",
      "Skipping RIA_17-353D_Prasad_000_207\n",
      "Skipping RIA_17-353D_Prasad_000_212\n",
      "Skipping RIA_17-353D_Prasad_000_218\n",
      "Skipping RIA_17-353D_Prasad_000_220\n",
      "Skipping RIA_17-353D_Prasad_000_221\n",
      "Skipping RIA_17-353D_Prasad_000_222\n",
      "Skipping RIA_17-353D_Prasad_000_233\n",
      "Skipping RIA_17-353D_Prasad_000_237\n",
      "Skipping RIA_17-353D_Prasad_000_250\n",
      "Skipping RIA_17-353D_Prasad_000_253\n",
      "Skipping RIA_17-353D_Prasad_000_254\n",
      "Skipping RIA_17-353D_Prasad_000_257\n",
      "Skipping RIA_17-353D_Prasad_000_262\n",
      "Skipping RIA_17-353D_Prasad_000_264\n",
      "Skipping RIA_17-353D_Prasad_000_271\n",
      "Skipping RIA_17-353D_Prasad_000_276\n",
      "Skipping RIA_17-353D_Prasad_000_277\n",
      "Skipping RIA_17-353D_Prasad_000_286\n",
      "Skipping RIA_17-353D_Prasad_000_294\n",
      "Skipping RIA_17-353D_Prasad_000_296\n",
      "Skipping RIA_17-353D_Prasad_000_301\n",
      "Skipping RIA_17-353D_Prasad_000_304\n",
      "Skipping RIA_17-353D_Prasad_000_315\n",
      "Skipping RIA_17-353D_Prasad_000_316\n",
      "Skipping RIA_17-353D_Prasad_000_317\n",
      "Skipping RIA_17-353D_Prasad_000_320\n",
      "Skipping RIA_17-353D_Prasad_000_325\n",
      "Skipping RIA_17-353D_Prasad_000_348\n",
      "Skipping RIA_17-353D_Prasad_000_357\n",
      "Skipping RIA_17-353D_Prasad_000_358\n",
      "Skipping RIA_17-353D_Prasad_000_366\n",
      "Skipping RIA_17-353D_Prasad_000_377\n",
      "Skipping RIA_17-353D_Prasad_000_380\n",
      "Skipping RIA_17-353D_Prasad_000_385\n",
      "Skipping RIA_17-353D_Prasad_000_386\n",
      "Skipping RIA_17-353D_Prasad_000_397\n",
      "Skipping RIA_17-353D_Prasad_000_401\n",
      "Skipping RIA_17-353D_Prasad_000_402\n",
      "Skipping RIA_17-353D_Prasad_000_406\n",
      "Skipping RIA_17-353D_Prasad_000_414\n",
      "Skipping RIA_17-353D_Prasad_000_420\n",
      "Skipping RIA_17-353D_Prasad_000_424\n",
      "Skipping RIA_17-353D_Prasad_000_429\n",
      "Skipping RIA_17-353D_Prasad_000_435\n",
      "Skipping RIA_17-353D_Prasad_000_438\n",
      "Skipping RIA_17-353D_Prasad_000_439\n",
      "Skipping RIA_17-353D_Prasad_000_442\n",
      "Skipping RIA_17-353D_Prasad_000_444\n",
      "Skipping RIA_17-353D_Prasad_000_446\n",
      "Skipping RIA_17-353D_Prasad_000_448\n",
      "Skipping RIA_17-353D_Prasad_000_449\n",
      "Skipping RIA_17-353D_Prasad_000_450\n",
      "Skipping RIA_17-353D_Prasad_000_454\n",
      "Skipping RIA_17-353D_Prasad_000_461\n",
      "Skipping RIA_17-353D_Prasad_000_463\n",
      "Skipping RIA_17-353D_Prasad_000_466\n",
      "Skipping RIA_17-353D_Prasad_000_467\n",
      "Skipping RIA_17-353D_Prasad_000_468\n",
      "Skipping RIA_17-353D_Prasad_000_469\n",
      "Skipping RIA_17-353D_Prasad_000_483\n",
      "Skipping RIA_17-353D_Prasad_000_488\n",
      "Skipping RIA_17-353D_Prasad_000_492\n",
      "Skipping RIA_17-353D_Prasad_000_498\n"
     ]
    },
    {
     "data": {
      "text/plain": [
       "(305, 96)"
      ]
     },
     "execution_count": 1,
     "metadata": {},
     "output_type": "execute_result"
    }
   ],
   "source": [
    "from datasets import getNoduleInfoList\n",
    "all = getNoduleInfoList()\n",
    "len(all), len([x for x in all if x.is_nodule])"
   ]
  },
  {
   "cell_type": "code",
   "execution_count": 17,
   "metadata": {},
   "outputs": [
    {
     "data": {
      "text/plain": [
       "array([0, 0, 1, 0, 0, 1, 0, 1, 0, 1, 1, 0, 0, 0, 0, 0, 0, 1, 1, 1, 0, 1,\n",
       "       0, 0, 0, 1, 1, 1, 0, 0, 1, 1, 1, 0, 0, 1, 1, 1, 1, 1, 0, 1, 1, 0,\n",
       "       0, 0, 1, 1, 0, 1, 0, 0, 0, 0, 0, 0, 1, 1, 1, 1, 1, 0, 1, 0, 1, 1,\n",
       "       0, 1, 0, 0, 1, 0, 1, 1, 0, 0, 0, 1, 0, 0, 0, 1, 0, 1, 0, 1, 1, 1,\n",
       "       1, 1, 1, 0, 0, 0, 0, 0, 1, 1, 1, 0, 0, 0, 1, 0, 1, 0, 1, 1, 0, 0,\n",
       "       1, 1, 0, 1, 1, 0, 0, 0, 0, 1, 1, 1, 0, 0, 1, 1, 1, 1, 1, 0, 0, 1,\n",
       "       1, 1, 1, 1, 0, 1, 0, 0, 0, 0, 0, 1, 1, 1, 0, 0, 0, 1, 1, 1, 1, 1,\n",
       "       0, 1, 0, 1, 1, 1, 1, 0, 1, 0, 1, 0, 1, 0, 0, 1, 0, 0, 1, 0, 0, 1,\n",
       "       1, 1, 1, 0, 1, 0, 0, 0, 1, 0, 0, 0, 0, 1, 1, 0, 0, 1, 1, 1, 0, 0,\n",
       "       1, 1, 0, 0, 1, 1, 1, 1, 1, 0, 1, 1, 1, 0, 1, 0, 1, 0, 0, 1, 0, 0,\n",
       "       0, 0, 1, 1, 0, 0, 1, 1, 0, 1, 0, 1, 1, 0, 0, 0, 0, 1, 0, 1, 1, 1,\n",
       "       1, 1, 1, 0, 0, 0, 1, 0, 1, 0, 0, 0, 0, 1, 1, 1, 0, 0, 1, 1, 1, 0,\n",
       "       0, 1, 1, 1, 0, 1, 1, 0, 1, 1, 0, 0, 1, 1, 1, 0, 0, 1, 0, 0, 1, 1,\n",
       "       1, 1, 1, 1, 1, 0, 0, 0, 1, 0, 1, 1, 0, 0, 0, 0, 1, 1, 1])"
      ]
     },
     "execution_count": 17,
     "metadata": {},
     "output_type": "execute_result"
    }
   ],
   "source": [
    "import numpy as np \n",
    "from torch.utils.data import WeightedRandomSampler\n",
    "labels = np.array([s.is_nodule for s in all])\n",
    "class_counts = np.bincount(labels)\n",
    "class_weights = 1. / class_counts\n",
    "sample_weights = class_weights[labels]\n",
    "sample_weights\n",
    "sampler = WeightedRandomSampler(weights=sample_weights, num_samples=len(sample_weights), replacement=True)\n"
   ]
  }
 ],
 "metadata": {
  "kernelspec": {
   "display_name": "lminfer",
   "language": "python",
   "name": "python3"
  },
  "language_info": {
   "codemirror_mode": {
    "name": "ipython",
    "version": 3
   },
   "file_extension": ".py",
   "mimetype": "text/x-python",
   "name": "python",
   "nbconvert_exporter": "python",
   "pygments_lexer": "ipython3",
   "version": "3.10.0"
  }
 },
 "nbformat": 4,
 "nbformat_minor": 2
}
