{
 "cells": [
  {
   "cell_type": "code",
   "execution_count": 3,
   "metadata": {},
   "outputs": [],
   "source": [
    "import json \n",
    "import xnat \n",
    "\n",
    "with open(\"xnat.cfg\") as f:\n",
    "    config = json.load(f)\n",
    "    \n",
    "session = xnat.connect(**config)\n",
    "\n",
    "sclc = session.projects[\"17-353sclc_B\"]"
   ]
  },
  {
   "cell_type": "code",
   "execution_count": 8,
   "metadata": {},
   "outputs": [
    {
     "data": {
      "text/plain": [
       "<XNATListing {(1, Scout): <CtScanData Scout (1)>, (2, 5mm Standard): <CtScanData 5mm Standard (2)>, (3, 5mm Lung): <CtScanData 5mm Lung (3)>, (5, Thin Standard): <CtScanData Thin Standard (5)>, (7, 2.5MM LUNG): <CtScanData 2.5MM LUNG (7)>, (9, 1.25mm Lung): <CtScanData 1.25mm Lung (9)>, (4, Thin Lung): <CtScanData Thin Lung (4)>, (6, 2.5MM STANDARD): <CtScanData 2.5MM STANDARD (6)>, (8, 1.25MM STANDARD): <CtScanData 1.25MM STANDARD (8)>}>"
      ]
     },
     "execution_count": 8,
     "metadata": {},
     "output_type": "execute_result"
    }
   ],
   "source": [
    "subj = sclc.subjects[0]\n",
    "subj.experiments[0].scans"
   ]
  }
 ],
 "metadata": {
  "kernelspec": {
   "display_name": "lminfer",
   "language": "python",
   "name": "python3"
  },
  "language_info": {
   "codemirror_mode": {
    "name": "ipython",
    "version": 3
   },
   "file_extension": ".py",
   "mimetype": "text/x-python",
   "name": "python",
   "nbconvert_exporter": "python",
   "pygments_lexer": "ipython3",
   "version": "3.10.0"
  }
 },
 "nbformat": 4,
 "nbformat_minor": 2
}
