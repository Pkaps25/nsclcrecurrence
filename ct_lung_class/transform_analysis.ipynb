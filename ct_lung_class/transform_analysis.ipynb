{
 "cells": [
  {
   "cell_type": "code",
   "execution_count": 1,
   "metadata": {},
   "outputs": [],
   "source": [
    "import pandas as pd \n",
    "import torch \n",
    "import monai\n",
    "import os\n",
    "import pickle"
   ]
  },
  {
   "cell_type": "code",
   "execution_count": 2,
   "metadata": {},
   "outputs": [],
   "source": [
    "path = \"/data/kaplinsp/models/log_DenseNet121_2025-03-24_19.38.03.log-middle-slice-2d-0/\"\n",
    "model = monai.networks.nets.densenet121(\n",
    "                dropout_prob=0.4, spatial_dims=3, in_channels=1, out_channels=2\n",
    "            )\n",
    "model = model.to(0)"
   ]
  },
  {
   "cell_type": "code",
   "execution_count": 3,
   "metadata": {},
   "outputs": [
    {
     "name": "stderr",
     "output_type": "stream",
     "text": [
      "/tmp/ipykernel_4105114/2537844734.py:1: FutureWarning: You are using `torch.load` with `weights_only=False` (the current default value), which uses the default pickle module implicitly. It is possible to construct malicious pickle data which will execute arbitrary code during unpickling (See https://github.com/pytorch/pytorch/blob/main/SECURITY.md#untrusted-models for more details). In a future release, the default value for `weights_only` will be flipped to `True`. This limits the functions that could be executed during unpickling. Arbitrary objects will no longer be allowed to be loaded via this mode unless they are explicitly allowlisted by the user via `torch.serialization.add_safe_globals`. We recommend you start setting `weights_only=True` for any use case where you don't have full control of the loaded file. Please open an issue on GitHub for any issues related to this experimental feature.\n",
      "  model.load_state_dict(torch.load(os.path.join(path, \"best_loss_model.pth\"))[\"model_state_dict\"])\n"
     ]
    },
    {
     "data": {
      "text/plain": [
       "<All keys matched successfully>"
      ]
     },
     "execution_count": 3,
     "metadata": {},
     "output_type": "execute_result"
    }
   ],
   "source": [
    "model.load_state_dict(torch.load(os.path.join(path, \"best_loss_model.pth\"))[\"model_state_dict\"])"
   ]
  },
  {
   "cell_type": "code",
   "execution_count": 3,
   "metadata": {},
   "outputs": [],
   "source": [
    "from datasets import getNoduleInfoList\n",
    "with open(os.path.join(path, \"val.pkl\"), 'rb') as f:\n",
    "    val_ids = pickle.load(f)\n",
    "nodules = getNoduleInfoList(['sclc'])\n",
    "nodules = [nod for nod in nodules if nod.is_nodule == 2]"
   ]
  },
  {
   "cell_type": "code",
   "execution_count": 5,
   "metadata": {},
   "outputs": [
    {
     "name": "stderr",
     "output_type": "stream",
     "text": [
      "2025-04-03 20:33:30,578 INFO     pid:4105114 datasets:182:__init__ <datasets.NoduleDataset object at 0x7f9293a0a140>: 18 validation samples\n"
     ]
    }
   ],
   "source": [
    "from datasets import NoduleDataset\n",
    "dataset = NoduleDataset(nodules, \n",
    "            isValSet_bool=True,\n",
    "            dilate=20,\n",
    "            resample=[128, 128, 128],\n",
    "            box_size=40)\n",
    "\n",
    "from torch.utils.data import DataLoader\n",
    "val_dl = DataLoader(\n",
    "            dataset,\n",
    "            batch_size=16,\n",
    "            num_workers=4,\n",
    "            pin_memory=True,\n",
    "            drop_last=False,\n",
    "            shuffle=True,\n",
    "        )"
   ]
  },
  {
   "cell_type": "code",
   "execution_count": null,
   "metadata": {},
   "outputs": [
    {
     "name": "stderr",
     "output_type": "stream",
     "text": [
      "/data/kaplinsp/envs/lminfer/lib/python3.10/site-packages/sklearn/metrics/_ranking.py:1174: UndefinedMetricWarning: No negative samples in y_true, false positive value should be meaningless\n",
      "  warnings.warn(\n"
     ]
    }
   ],
   "source": [
    "from sklearn.metrics import roc_curve, auc\n",
    "import matplotlib.pyplot as plt\n",
    "\n",
    "# Assuming you already have a model and a dataloader\n",
    "model.eval()\n",
    "all_probs = []\n",
    "all_labels = []\n",
    "all_paths = []\n",
    "\n",
    "with torch.no_grad():\n",
    "    for inputs, labels in val_dl:\n",
    "        inputs = inputs.to(0)\n",
    "        labels = torch.clip(labels.to(0), min=0, max=1)\n",
    "        all_paths.extend([])\n",
    "\n",
    "        outputs = model(inputs)  # Shape: (batch_size, num_classes) or (batch_size,)\n",
    "        probs = torch.softmax(outputs, dim=1)[:, 1]  # For binary classification\n",
    "        # If you're using nn.Sigmoid as the final layer, you don't need to apply it again\n",
    "\n",
    "        all_probs.append(probs.cpu())\n",
    "        all_labels.append(labels.cpu())\n",
    "\n",
    "# Concatenate all batches\n",
    "all_probs = torch.cat(all_probs).numpy()\n",
    "all_labels = torch.cat(all_labels).numpy()\n",
    "\n",
    "# Compute ROC curve and AUC\n",
    "fpr, tpr, thresholds = roc_curve(all_labels, all_probs)\n",
    "roc_auc = auc(fpr, tpr)"
   ]
  },
  {
   "cell_type": "code",
   "execution_count": 29,
   "metadata": {},
   "outputs": [
    {
     "name": "stdout",
     "output_type": "stream",
     "text": [
      "[[ 0  0]\n",
      " [10  8]]\n",
      "              precision    recall  f1-score   support\n",
      "\n",
      "           0       0.00      0.00      0.00         0\n",
      "           1       1.00      0.44      0.62        18\n",
      "\n",
      "    accuracy                           0.44        18\n",
      "   macro avg       0.50      0.22      0.31        18\n",
      "weighted avg       1.00      0.44      0.62        18\n",
      "\n"
     ]
    },
    {
     "name": "stderr",
     "output_type": "stream",
     "text": [
      "/data/kaplinsp/envs/lminfer/lib/python3.10/site-packages/sklearn/metrics/_classification.py:1531: UndefinedMetricWarning: Recall is ill-defined and being set to 0.0 in labels with no true samples. Use `zero_division` parameter to control this behavior.\n",
      "  _warn_prf(average, modifier, f\"{metric.capitalize()} is\", len(result))\n",
      "/data/kaplinsp/envs/lminfer/lib/python3.10/site-packages/sklearn/metrics/_classification.py:1531: UndefinedMetricWarning: Recall is ill-defined and being set to 0.0 in labels with no true samples. Use `zero_division` parameter to control this behavior.\n",
      "  _warn_prf(average, modifier, f\"{metric.capitalize()} is\", len(result))\n",
      "/data/kaplinsp/envs/lminfer/lib/python3.10/site-packages/sklearn/metrics/_classification.py:1531: UndefinedMetricWarning: Recall is ill-defined and being set to 0.0 in labels with no true samples. Use `zero_division` parameter to control this behavior.\n",
      "  _warn_prf(average, modifier, f\"{metric.capitalize()} is\", len(result))\n"
     ]
    }
   ],
   "source": [
    "cutoff = 0.3570  # replace with your actual cutoff\n",
    "pred_labels = (all_probs >= cutoff).astype(int)\n",
    "from sklearn.metrics import classification_report, confusion_matrix\n",
    "\n",
    "print(confusion_matrix(all_labels, pred_labels))\n",
    "print(classification_report(all_labels, pred_labels))"
   ]
  },
  {
   "cell_type": "code",
   "execution_count": 8,
   "metadata": {},
   "outputs": [
    {
     "name": "stderr",
     "output_type": "stream",
     "text": [
      "2025-04-03 20:51:21,146 INFO     pid:4118020 datasets:110:getCtRawNodule Slicing nodule from image for /data/kaplinsp/transformation/T462655SB.nrrd\n",
      "2025-04-03 20:51:21,233 INFO     pid:4118020 datasets:110:getCtRawNodule Slicing nodule from image for /data/kaplinsp/transformation/T462657AB.nrrd\n",
      "2025-04-03 20:51:21,312 INFO     pid:4118020 datasets:110:getCtRawNodule Slicing nodule from image for /data/kaplinsp/transformation/T462657AB.nrrd\n",
      "2025-04-03 20:51:21,396 INFO     pid:4118020 datasets:110:getCtRawNodule Slicing nodule from image for /data/kaplinsp/transformation/T462658AB.nrrd\n",
      "2025-04-03 20:51:21,488 INFO     pid:4118020 datasets:110:getCtRawNodule Slicing nodule from image for /data/kaplinsp/transformation/T462659SB.nrrd\n"
     ]
    }
   ],
   "source": [
    "from datasets import getCtRawNodule\n",
    "from image import NoSeg\n",
    "has_seg = []\n",
    "no_seg = []\n",
    "for nod in nodules:\n",
    "    try:\n",
    "        getCtRawNodule(\n",
    "            nod.file_path,\n",
    "            nod.image_type,\n",
    "            nod.center_lps, \n",
    "            True,\n",
    "            20,\n",
    "            [128, 128, 128],\n",
    "            40\n",
    "        )\n",
    "        has_seg.append((nod.file_path, nod.center_lps))\n",
    "    except NoSeg:\n",
    "        no_seg.append((nod.file_path, nod.center_lps))\n",
    "        "
   ]
  },
  {
   "cell_type": "code",
   "execution_count": 10,
   "metadata": {},
   "outputs": [
    {
     "data": {
      "text/plain": [
       "[('/data/kaplinsp/transformation/T462655SB.nrrd',\n",
       "  (96.0378631066225, 10.633173432450292, -121.875)),\n",
       " ('/data/kaplinsp/transformation/T462657AB.nrrd',\n",
       "  (-66.14879966887416, 21.47636589403976, -149.37499999999994)),\n",
       " ('/data/kaplinsp/transformation/T462657AB.nrrd',\n",
       "  (-71.10774006622515, 28.342591059602626, -140.62499999999994)),\n",
       " ('/data/kaplinsp/transformation/T462658AB.nrrd',\n",
       "  (-56.317673688741706, 80.91284244370866, -117.62499999999996)),\n",
       " ('/data/kaplinsp/transformation/T462659SB.nrrd',\n",
       "  (-54.5680700112583, -66.75151193973505, -200.625))]"
      ]
     },
     "execution_count": 10,
     "metadata": {},
     "output_type": "execute_result"
    }
   ],
   "source": [
    "no_seg"
   ]
  }
 ],
 "metadata": {
  "kernelspec": {
   "display_name": "lminfer",
   "language": "python",
   "name": "python3"
  },
  "language_info": {
   "codemirror_mode": {
    "name": "ipython",
    "version": 3
   },
   "file_extension": ".py",
   "mimetype": "text/x-python",
   "name": "python",
   "nbconvert_exporter": "python",
   "pygments_lexer": "ipython3",
   "version": "3.10.0"
  }
 },
 "nbformat": 4,
 "nbformat_minor": 2
}
