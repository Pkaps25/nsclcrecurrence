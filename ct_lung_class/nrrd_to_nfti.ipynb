{
 "cells": [
  {
   "cell_type": "code",
   "execution_count": 5,
   "metadata": {},
   "outputs": [],
   "source": [
    "import SimpleITK as sitk\n",
    "import pandas as pd\n",
    "import os"
   ]
  },
  {
   "cell_type": "code",
   "execution_count": 7,
   "metadata": {},
   "outputs": [],
   "source": [
    "annots = pd.read_csv(\"annotations.csv\")\n",
    "out_dir = \"/data/kaplinsp/nnunet_data_base/Task006_Lung/imagesTs\"\n",
    "for i in annots['anon_id'].values:\n",
    "    path = f\"/data/etay/lung_hist_dat/original_dat_nrrds/nod{i}.nrrd\"\n",
    "    img = sitk.ReadImage(path)\n",
    "    sitk.WriteImage(img, os.path.join(out_dir, f\"lung_{i}_0000.nii.gz\"))\n",
    "    "
   ]
  }
 ],
 "metadata": {
  "kernelspec": {
   "display_name": "lminfer",
   "language": "python",
   "name": "python3"
  },
  "language_info": {
   "codemirror_mode": {
    "name": "ipython",
    "version": 3
   },
   "file_extension": ".py",
   "mimetype": "text/x-python",
   "name": "python",
   "nbconvert_exporter": "python",
   "pygments_lexer": "ipython3",
   "version": "3.10.0"
  }
 },
 "nbformat": 4,
 "nbformat_minor": 2
}
