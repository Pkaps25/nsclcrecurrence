{
 "cells": [
  {
   "cell_type": "code",
   "execution_count": 1,
   "metadata": {},
   "outputs": [],
   "source": [
    "import SimpleITK as sitk\n",
    "import pandas as pd\n",
    "import os"
   ]
  },
  {
   "cell_type": "code",
   "execution_count": 7,
   "metadata": {},
   "outputs": [],
   "source": [
    "annots = pd.read_csv(\"annotations.csv\")\n",
    "out_dir = \"/data/kaplinsp/nnunet_data_base/nnUNet_raw_data/Task006_Lung/imagesTs\"\n",
    "for i in annots['anon_id'].values:\n",
    "    path = f\"/data/etay/lung_hist_dat/original_dat_nrrds/nod{i}.nrrd\"\n",
    "    img = sitk.ReadImage(path)\n",
    "    sitk.WriteImage(img, os.path.join(out_dir, f\"lung_{i}_0000.nii.gz\"))\n",
    "    "
   ]
  },
  {
   "cell_type": "code",
   "execution_count": 4,
   "metadata": {},
   "outputs": [
    {
     "name": "stderr",
     "output_type": "stream",
     "text": [
      "WARNING: In /tmp/SimpleITK-build/ITK-prefix/include/ITK-5.3/itkImageSeriesReader.hxx, line 477\n",
      "ImageSeriesReader (0x55ce09bf1f80): Non uniform sampling or missing slices detected,  maximum nonuniformity:0.199574\n",
      "\n",
      "WARNING: In /tmp/SimpleITK-build/ITK-prefix/include/ITK-5.3/itkImageSeriesReader.hxx, line 477\n",
      "ImageSeriesReader (0x55ce09bf1f80): Non uniform sampling or missing slices detected,  maximum nonuniformity:13.6902\n",
      "\n",
      "WARNING: In /tmp/SimpleITK-build/ITK-prefix/include/ITK-5.3/itkImageSeriesReader.hxx, line 477\n",
      "ImageSeriesReader (0x55ce09bf1f80): Non uniform sampling or missing slices detected,  maximum nonuniformity:3.73606\n",
      "\n",
      "WARNING: In /tmp/SimpleITK-build/ITK-prefix/include/ITK-5.3/itkImageSeriesReader.hxx, line 477\n",
      "ImageSeriesReader (0x55ce09bf1f80): Non uniform sampling or missing slices detected,  maximum nonuniformity:3.73665\n",
      "\n",
      "WARNING: In /tmp/SimpleITK-build/ITK-prefix/include/ITK-5.3/itkImageSeriesReader.hxx, line 477\n",
      "ImageSeriesReader (0x55ce09bf1f80): Non uniform sampling or missing slices detected,  maximum nonuniformity:1.24434\n",
      "\n",
      "WARNING: In /tmp/SimpleITK-build/ITK-prefix/include/ITK-5.3/itkImageSeriesReader.hxx, line 477\n",
      "ImageSeriesReader (0x55ce09bf1f80): Non uniform sampling or missing slices detected,  maximum nonuniformity:3.73563\n",
      "\n",
      "WARNING: In /tmp/SimpleITK-build/ITK-prefix/include/ITK-5.3/itkImageSeriesReader.hxx, line 477\n",
      "ImageSeriesReader (0x55ce09bf1f80): Non uniform sampling or missing slices detected,  maximum nonuniformity:13.6917\n",
      "\n",
      "WARNING: In /tmp/SimpleITK-build/ITK-prefix/include/ITK-5.3/itkImageSeriesReader.hxx, line 477\n",
      "ImageSeriesReader (0x55ce09bf1f80): Non uniform sampling or missing slices detected,  maximum nonuniformity:3.48763\n",
      "\n",
      "WARNING: In /tmp/SimpleITK-build/ITK-prefix/include/ITK-5.3/itkImageSeriesReader.hxx, line 477\n",
      "ImageSeriesReader (0x55ce09bf1f80): Non uniform sampling or missing slices detected,  maximum nonuniformity:1.24481\n",
      "\n",
      "WARNING: In /tmp/SimpleITK-build/ITK-prefix/include/ITK-5.3/itkImageSeriesReader.hxx, line 477\n",
      "ImageSeriesReader (0x55ce09bf1f80): Non uniform sampling or missing slices detected,  maximum nonuniformity:98.9775\n",
      "\n",
      "WARNING: In /tmp/SimpleITK-build/ITK-prefix/include/ITK-5.3/itkImageSeriesReader.hxx, line 477\n",
      "ImageSeriesReader (0x55ce09bf1f80): Non uniform sampling or missing slices detected,  maximum nonuniformity:1.24473\n",
      "\n",
      "WARNING: In /tmp/SimpleITK-build/ITK-prefix/include/ITK-5.3/itkImageSeriesReader.hxx, line 477\n",
      "ImageSeriesReader (0x55ce09bf1f80): Non uniform sampling or missing slices detected,  maximum nonuniformity:1.24585\n",
      "\n",
      "WARNING: In /tmp/SimpleITK-build/ITK-prefix/include/ITK-5.3/itkImageSeriesReader.hxx, line 477\n",
      "ImageSeriesReader (0x55ce09bf1f80): Non uniform sampling or missing slices detected,  maximum nonuniformity:1.24481\n",
      "\n",
      "WARNING: In /tmp/SimpleITK-build/ITK-prefix/include/ITK-5.3/itkImageSeriesReader.hxx, line 477\n",
      "ImageSeriesReader (0x55ce09bf1f80): Non uniform sampling or missing slices detected,  maximum nonuniformity:3.73482\n",
      "\n",
      "WARNING: In /tmp/SimpleITK-build/ITK-prefix/include/ITK-5.3/itkImageSeriesReader.hxx, line 477\n",
      "ImageSeriesReader (0x55ce09bf1f80): Non uniform sampling or missing slices detected,  maximum nonuniformity:3.73661\n",
      "\n",
      "WARNING: In /tmp/SimpleITK-build/ITK-prefix/include/ITK-5.3/itkImageSeriesReader.hxx, line 477\n",
      "ImageSeriesReader (0x55ce09bf1f80): Non uniform sampling or missing slices detected,  maximum nonuniformity:1.8679\n",
      "\n",
      "WARNING: In /tmp/SimpleITK-build/ITK-prefix/include/ITK-5.3/itkImageSeriesReader.hxx, line 477\n",
      "ImageSeriesReader (0x55ce09bf1f80): Non uniform sampling or missing slices detected,  maximum nonuniformity:15.4125\n",
      "\n",
      "WARNING: In /tmp/SimpleITK-build/ITK-prefix/include/ITK-5.3/itkImageSeriesReader.hxx, line 477\n",
      "ImageSeriesReader (0x55ce09bf1f80): Non uniform sampling or missing slices detected,  maximum nonuniformity:4.53782\n",
      "\n",
      "WARNING: In /tmp/SimpleITK-build/ITK-prefix/include/ITK-5.3/itkImageSeriesReader.hxx, line 477\n",
      "ImageSeriesReader (0x55ce09bf1f80): Non uniform sampling or missing slices detected,  maximum nonuniformity:1.24561\n",
      "\n",
      "WARNING: In /tmp/SimpleITK-build/ITK-prefix/include/ITK-5.3/itkImageSeriesReader.hxx, line 477\n",
      "ImageSeriesReader (0x55ce09bf1f80): Non uniform sampling or missing slices detected,  maximum nonuniformity:14.9318\n",
      "\n"
     ]
    }
   ],
   "source": [
    "annots = pd.read_csv(\"annots_michelle.csv\")\n",
    "out_dir = \"/data/kaplinsp/nnunet_data_base/nnUNet_raw_data/Task006_Lung/imagesTs\"\n",
    "for nod_id in annots['XNAT Subject ID '].values:\n",
    "    dicom_path = f\"/data/kaplinsp/prasad_d/{nod_id}\"\n",
    "    if not os.path.exists(dicom_path):\n",
    "        continue \n",
    "    \n",
    "    reader = sitk.ImageSeriesReader()\n",
    "    dicom_files = reader.GetGDCMSeriesFileNames(dicom_path)\n",
    "    reader.SetFileNames(dicom_files)\n",
    "    image = reader.Execute()\n",
    "    nod_id_num = nod_id.split(\"_\")[-1]\n",
    "    sitk.WriteImage(image, os.path.join(out_dir, f\"lung_pd{nod_id_num}_0000.nii.gz\"))\n",
    "        "
   ]
  }
 ],
 "metadata": {
  "kernelspec": {
   "display_name": "lminfer",
   "language": "python",
   "name": "python3"
  },
  "language_info": {
   "codemirror_mode": {
    "name": "ipython",
    "version": 3
   },
   "file_extension": ".py",
   "mimetype": "text/x-python",
   "name": "python",
   "nbconvert_exporter": "python",
   "pygments_lexer": "ipython3",
   "version": "3.10.0"
  }
 },
 "nbformat": 4,
 "nbformat_minor": 2
}
