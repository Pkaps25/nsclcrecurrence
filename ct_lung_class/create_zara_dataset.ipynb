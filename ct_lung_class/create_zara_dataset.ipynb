{
 "cells": [
  {
   "cell_type": "code",
   "execution_count": 56,
   "id": "c3580e87",
   "metadata": {},
   "outputs": [],
   "source": [
    "import os \n",
    "import glob \n",
    "import csv \n",
    "\n",
    "import SimpleITK as sitk\n",
    "\n",
    "HEADER = [\"id\", \"x\", \"y\", \"z\", \"ow\", \"ox\", \"oy\", \"oz\", \"vis\", \"sel\", \"lock\", \"label\", \"desc\", \"associatedNodeID\"]"
   ]
  },
  {
   "cell_type": "code",
   "execution_count": 57,
   "id": "c59a3905",
   "metadata": {},
   "outputs": [
    {
     "name": "stdout",
     "output_type": "stream",
     "text": [
      "['/data/shastra1/Data_zara/SC_Zara/SC_001.fcsv', '/data/shastra1/Data_zara/SC_Zara/SC_032.fcsv', '/data/shastra1/Data_zara/SC_Zara/SC_002.fcsv', '/data/shastra1/Data_zara/SC_Zara/SC_038.fcsv', '/data/shastra1/Data_zara/SC_Zara/SC_003.fcsv', '/data/shastra1/Data_zara/SC_Zara/SC_005.fcsv', '/data/shastra1/Data_zara/SC_Zara/SC_006.fcsv', '/data/shastra1/Data_zara/SC_Zara/SC_007.fcsv', '/data/shastra1/Data_zara/SC_Zara/SC_039.fcsv', '/data/shastra1/Data_zara/SC_Zara/SC_008.fcsv', '/data/shastra1/Data_zara/SC_Zara/SC_009.fcsv', '/data/shastra1/Data_zara/SC_Zara/SC_010.fcsv', '/data/shastra1/Data_zara/SC_Zara/SC_011.fcsv', '/data/shastra1/Data_zara/SC_Zara/SC_040.fcsv', '/data/shastra1/Data_zara/SC_Zara/SC_012.fcsv', '/data/shastra1/Data_zara/SC_Zara/SC_013.fcsv', '/data/shastra1/Data_zara/SC_Zara/SC_041.fcsv', '/data/shastra1/Data_zara/SC_Zara/SC_014.fcsv', '/data/shastra1/Data_zara/SC_Zara/SC_015.fcsv', '/data/shastra1/Data_zara/SC_Zara/SC_016.fcsv', '/data/shastra1/Data_zara/SC_Zara/SC_042.fcsv', '/data/shastra1/Data_zara/SC_Zara/SC_017.fcsv', '/data/shastra1/Data_zara/SC_Zara/SC_018.fcsv', '/data/shastra1/Data_zara/SC_Zara/SC_019.fcsv', '/data/shastra1/Data_zara/SC_Zara/SC_043.fcsv', '/data/shastra1/Data_zara/SC_Zara/SC_021.fcsv', '/data/shastra1/Data_zara/SC_Zara/SC_022.fcsv', '/data/shastra1/Data_zara/SC_Zara/SC_023.fcsv', '/data/shastra1/Data_zara/SC_Zara/SC_044.fcsv', '/data/shastra1/Data_zara/SC_Zara/SC_024.fcsv', '/data/shastra1/Data_zara/SC_Zara/SC_026.fcsv', '/data/shastra1/Data_zara/SC_Zara/SC_027.fcsv', '/data/shastra1/Data_zara/SC_Zara/SC_028.fcsv', '/data/shastra1/Data_zara/SC_Zara/SC_045.fcsv', '/data/shastra1/Data_zara/SC_Zara/SC_030.fcsv', '/data/shastra1/Data_zara/SC_Zara/SC_031.fcsv', '/data/shastra1/Data_zara/SC_Zara/SC_046.fcsv', '/data/shastra1/Data_zara/SC_Zara/SC_033.fcsv', '/data/shastra1/Data_zara/SC_Zara/SC_048.fcsv', '/data/shastra1/Data_zara/SC_Zara/SC_034.fcsv', '/data/shastra1/Data_zara/SC_Zara/SC_035.fcsv', '/data/shastra1/Data_zara/SC_Zara/SC_047.fcsv', '/data/shastra1/Data_zara/SC_Zara/SC_036.fcsv', '/data/shastra1/Data_zara/SC_Zara/SC_049.fcsv', '/data/shastra1/Data_zara/SC_Zara/SC_037.fcsv', '/data/shastra1/Data_zara/SC_Zara/SC_082 0.fcsv', '/data/shastra1/Data_zara/SC_Zara/SC_082 1.fcsv', '/data/shastra1/Data_zara/SC_Zara/SC_050.fcsv', '/data/shastra1/Data_zara/SC_Zara/SC_051.fcsv', '/data/shastra1/Data_zara/SC_Zara/SC_052.fcsv', '/data/shastra1/Data_zara/SC_Zara/SC_084 1.fcsv', '/data/shastra1/Data_zara/SC_Zara/SC_053.fcsv', '/data/shastra1/Data_zara/SC_Zara/SC_054.fcsv', '/data/shastra1/Data_zara/SC_Zara/SC_083 0.fcsv', '/data/shastra1/Data_zara/SC_Zara/SC_055.fcsv', '/data/shastra1/Data_zara/SC_Zara/SC_083 1.fcsv', '/data/shastra1/Data_zara/SC_Zara/SC_056.fcsv', '/data/shastra1/Data_zara/SC_Zara/SC_057.fcsv', '/data/shastra1/Data_zara/SC_Zara/SC_058.fcsv', '/data/shastra1/Data_zara/SC_Zara/SC_059.fcsv', '/data/shastra1/Data_zara/SC_Zara/SC_084 0.fcsv', '/data/shastra1/Data_zara/SC_Zara/SC_060.fcsv', '/data/shastra1/Data_zara/SC_Zara/SC_061.fcsv', '/data/shastra1/Data_zara/SC_Zara/SC_062.fcsv', '/data/shastra1/Data_zara/SC_Zara/SC_063.fcsv', '/data/shastra1/Data_zara/SC_Zara/SC_085.fcsv', '/data/shastra1/Data_zara/SC_Zara/SC_064.fcsv', '/data/shastra1/Data_zara/SC_Zara/SC_065.fcsv', '/data/shastra1/Data_zara/SC_Zara/SC_066.fcsv', '/data/shastra1/Data_zara/SC_Zara/SC_086.fcsv', '/data/shastra1/Data_zara/SC_Zara/SC_067.fcsv', '/data/shastra1/Data_zara/SC_Zara/SC_068.fcsv', '/data/shastra1/Data_zara/SC_Zara/SC_069.fcsv', '/data/shastra1/Data_zara/SC_Zara/SC_087.fcsv', '/data/shastra1/Data_zara/SC_Zara/SC_070.fcsv', '/data/shastra1/Data_zara/SC_Zara/SC_071.fcsv', '/data/shastra1/Data_zara/SC_Zara/SC_072.fcsv', '/data/shastra1/Data_zara/SC_Zara/SC_088.fcsv', '/data/shastra1/Data_zara/SC_Zara/SC_073.fcsv', '/data/shastra1/Data_zara/SC_Zara/SC_074.fcsv', '/data/shastra1/Data_zara/SC_Zara/SC_075.fcsv', '/data/shastra1/Data_zara/SC_Zara/SC_089.fcsv', '/data/shastra1/Data_zara/SC_Zara/SC_076.fcsv', '/data/shastra1/Data_zara/SC_Zara/SC_077.fcsv', '/data/shastra1/Data_zara/SC_Zara/SC_078.fcsv', '/data/shastra1/Data_zara/SC_Zara/SC_090.fcsv', '/data/shastra1/Data_zara/SC_Zara/SC_079.fcsv', '/data/shastra1/Data_zara/SC_Zara/SC_092.fcsv', '/data/shastra1/Data_zara/SC_Zara/SC_080.fcsv', '/data/shastra1/Data_zara/SC_Zara/SC_081.fcsv', '/data/shastra1/Data_zara/SC_Zara/SC_091.fcsv', '/data/shastra1/Data_zara/SC_Zara/SC_093.fcsv', '/data/shastra1/Data_zara/SC_Zara/SC_094.fcsv', '/data/shastra1/Data_zara/SC_Zara/SC_124 0.fcsv', '/data/shastra1/Data_zara/SC_Zara/SC_095.fcsv', '/data/shastra1/Data_zara/SC_Zara/SC_124 1.fcsv', '/data/shastra1/Data_zara/SC_Zara/SC_096.fcsv', '/data/shastra1/Data_zara/SC_Zara/SC_097.fcsv', '/data/shastra1/Data_zara/SC_Zara/SC_098.fcsv', '/data/shastra1/Data_zara/SC_Zara/SC_099.fcsv', '/data/shastra1/Data_zara/SC_Zara/SC_100.fcsv', '/data/shastra1/Data_zara/SC_Zara/SC_125.fcsv', '/data/shastra1/Data_zara/SC_Zara/SC_101.fcsv', '/data/shastra1/Data_zara/SC_Zara/SC_127 1.fcsv', '/data/shastra1/Data_zara/SC_Zara/SC_102.fcsv', '/data/shastra1/Data_zara/SC_Zara/SC_103.fcsv', '/data/shastra1/Data_zara/SC_Zara/SC_126.fcsv', '/data/shastra1/Data_zara/SC_Zara/SC_104.fcsv', '/data/shastra1/Data_zara/SC_Zara/SC_105.fcsv', '/data/shastra1/Data_zara/SC_Zara/SC_106.fcsv', '/data/shastra1/Data_zara/SC_Zara/SC_127 0.fcsv', '/data/shastra1/Data_zara/SC_Zara/SC_107.fcsv', '/data/shastra1/Data_zara/SC_Zara/SC_127 2.fcsv', '/data/shastra1/Data_zara/SC_Zara/SC_108.fcsv', '/data/shastra1/Data_zara/SC_Zara/SC_109.fcsv', '/data/shastra1/Data_zara/SC_Zara/SC_110.fcsv', '/data/shastra1/Data_zara/SC_Zara/SC_111.fcsv', '/data/shastra1/Data_zara/SC_Zara/SC_128.fcsv', '/data/shastra1/Data_zara/SC_Zara/SC_112.fcsv', '/data/shastra1/Data_zara/SC_Zara/SC_113.fcsv', '/data/shastra1/Data_zara/SC_Zara/SC_114.fcsv', '/data/shastra1/Data_zara/SC_Zara/SC_115.fcsv', '/data/shastra1/Data_zara/SC_Zara/SC_116.fcsv', '/data/shastra1/Data_zara/SC_Zara/SC_129.fcsv', '/data/shastra1/Data_zara/SC_Zara/SC_117.fcsv', '/data/shastra1/Data_zara/SC_Zara/SC_118 0.fcsv', '/data/shastra1/Data_zara/SC_Zara/SC_118 1.fcsv', '/data/shastra1/Data_zara/SC_Zara/SC_130.fcsv', '/data/shastra1/Data_zara/SC_Zara/SC_119.fcsv', '/data/shastra1/Data_zara/SC_Zara/SC_133.fcsv', '/data/shastra1/Data_zara/SC_Zara/SC_120.fcsv', '/data/shastra1/Data_zara/SC_Zara/SC_121 0.fcsv', '/data/shastra1/Data_zara/SC_Zara/SC_121 1.fcsv', '/data/shastra1/Data_zara/SC_Zara/SC_131.fcsv', '/data/shastra1/Data_zara/SC_Zara/SC_122 0.fcsv', '/data/shastra1/Data_zara/SC_Zara/SC_122 1.fcsv', '/data/shastra1/Data_zara/SC_Zara/SC_132.fcsv', '/data/shastra1/Data_zara/SC_Zara/SC_123.fcsv', '/data/shastra1/Data_zara/SC_Zara/SC_135 0.fcsv', '/data/shastra1/Data_zara/SC_Zara/SC_135 1.fcsv', '/data/shastra1/Data_zara/SC_Zara/SC_136 0.fcsv', '/data/shastra1/Data_zara/SC_Zara/SC_136 1.fcsv', '/data/shastra1/Data_zara/SC_Zara/SC_137.fcsv']\n"
     ]
    }
   ],
   "source": [
    "BASE_PATH = \"/data/shastra1/Data_zara/SC_Zara\"\n",
    "all_files = glob.glob(os.path.join(BASE_PATH, \"*.fcsv\"))\n",
    "print(all_files)"
   ]
  },
  {
   "cell_type": "code",
   "execution_count": 59,
   "id": "47c7660d",
   "metadata": {},
   "outputs": [],
   "source": [
    "def get_image_path(csv_file_path):\n",
    "    if \" \" not in csv_file_path:\n",
    "        return csv_file_path.replace(\".fcsv\", \" .nrrd\")\n",
    "    return f\"{csv_file_path.split(' ')[0]} .nrrd\"\n",
    "\n",
    "def get_seg_file_path(csv_file_path):\n",
    "    if \" \" not in csv_file_path:\n",
    "        return csv_file_path.replace(\".fcsv\", \"_segment.nrrd\")\n",
    "    base_path, idx = csv_file_path.replace(\".fcsv\", \"\").split(\" \")\n",
    "    seg_idx = str(int(idx) + 1)\n",
    "    return f\"{base_path}_segment{seg_idx}.nrrd\"\n",
    "\n",
    "sc_nodules = []\n",
    "for file_path in all_files:\n",
    "    nodule_id = os.path.basename(file_path)\n",
    "    # print(nodule_id)\n",
    "    fiducial = csv.DictReader(filter(lambda row: row[0]!='#', open(file_path)), fieldnames=HEADER)\n",
    "    fiducial = next(fiducial)\n",
    "    nodule_dict = {\n",
    "        k: fiducial[k] for k in [\"x\", \"y\", \"z\"]\n",
    "    }\n",
    "    nodule_dict[\"nodule_id\"] = nodule_id.replace(\".fcsv\", \"\").replace(\" \", \"_\")\n",
    "    nodule_dict[\"image_file\"] = get_image_path(file_path)\n",
    "    if \"SC_028\" in nodule_dict[\"image_file\"] or \"SC_128\" in nodule_dict[\"image_file\"]:\n",
    "        nodule_dict[\"image_file\"] = nodule_dict[\"image_file\"].replace(\" \", \"\")\n",
    "    nodule_dict[\"seg_file\"] = get_seg_file_path(file_path)\n",
    "    nodule_dict[\"label\"] = 1\n",
    "    sc_nodules.append(nodule_dict)\n"
   ]
  },
  {
   "cell_type": "code",
   "execution_count": 60,
   "id": "07f6bd75",
   "metadata": {},
   "outputs": [],
   "source": [
    "BASE_PATH = \"/data/shastra1/Data_zara/NSCLC_Zara/\"\n",
    "all_files = glob.glob(os.path.join(BASE_PATH, \"*segment*nrrd\"))\n",
    "\n",
    "def get_center_from_seg(seg_file_path):\n",
    "    segmentation = sitk.ReadImage(seg_file_path)\n",
    "    binary_mask = sitk.BinaryThreshold(segmentation, lowerThreshold=1, upperThreshold=1) \n",
    "    label_shape_filter = sitk.LabelShapeStatisticsImageFilter()\n",
    "    label_shape_filter.Execute(binary_mask)\n",
    "    center_of_mass = label_shape_filter.GetCentroid(1)\n",
    "    \n",
    "    return center_of_mass\n",
    "\n",
    "def get_nodule_id(seg_file_path):\n",
    "    pre, suff = os.path.basename(seg_file_path).split(\"segment\")\n",
    "    return pre + suff[0]\n",
    "\n",
    "\n",
    "nsclc_nodules = []\n",
    "\n",
    "for seg_file_path in all_files:\n",
    "    x, y, z = get_center_from_seg(seg_file_path)\n",
    "    nodule_dict = {\n",
    "        \"x\": x,\n",
    "        \"y\": y,\n",
    "        \"z\": z,\n",
    "        \"label\": 0,\n",
    "        \"seg_file\": seg_file_path,\n",
    "        \"image_file\": \"_\".join(seg_file_path.split(\"_\")[:-1]) + \".nrrd\",\n",
    "        \"nodule_id\": get_nodule_id(seg_file_path),\n",
    "    }\n",
    "    nsclc_nodules.append(nodule_dict)\n"
   ]
  },
  {
   "cell_type": "code",
   "execution_count": 61,
   "id": "992bb7d5",
   "metadata": {},
   "outputs": [],
   "source": [
    "all_nodules = sc_nodules + nsclc_nodules"
   ]
  },
  {
   "cell_type": "code",
   "execution_count": 62,
   "id": "cff48c84",
   "metadata": {},
   "outputs": [],
   "source": [
    "len(all_nodules)\n",
    "with open(\"/data/kaplinsp/zara_dataset.csv\", \"w\") as fp:\n",
    "    writer = csv.DictWriter(fp, fieldnames=all_nodules[0].keys())\n",
    "    writer.writeheader()\n",
    "    writer.writerows(all_nodules)"
   ]
  }
 ],
 "metadata": {
  "kernelspec": {
   "display_name": "lminfer",
   "language": "python",
   "name": "python3"
  },
  "language_info": {
   "codemirror_mode": {
    "name": "ipython",
    "version": 3
   },
   "file_extension": ".py",
   "mimetype": "text/x-python",
   "name": "python",
   "nbconvert_exporter": "python",
   "pygments_lexer": "ipython3",
   "version": "3.10.0"
  }
 },
 "nbformat": 4,
 "nbformat_minor": 5
}
